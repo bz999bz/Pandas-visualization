{
  "nbformat": 4,
  "nbformat_minor": 0,
  "metadata": {
    "colab": {
      "provenance": []
    },
    "kernelspec": {
      "name": "python3",
      "display_name": "Python 3"
    },
    "language_info": {
      "name": "python"
    }
  },
  "cells": [
    {
      "cell_type": "code",
      "execution_count": null,
      "metadata": {
        "id": "P-PrsJedvX1b"
      },
      "outputs": [],
      "source": [
        "import pandas as pd\n",
        "import matplotlib.pyplot as plt\n",
        "import csv"
      ]
    },
    {
      "cell_type": "code",
      "source": [
        "main_df = pd.DataFrame(columns = ['name', 'gender', 'population', 'year'])\n",
        "start_year = 1880 \n",
        "while start_year <= 2021: \n",
        "  file_name = \"yob\" + str(start_year) \n",
        "  \n",
        "  with open(file_name + \".txt\", 'r') as in_file:\n",
        "    stripped = (line.strip() for line in in_file)\n",
        "    lines = (line.split(\",\") for line in stripped if line)\n",
        "    with open(file_name + \".csv\", 'w') as out_file:\n",
        "        writer = csv.writer(out_file)\n",
        "        writer.writerow(('name', 'gender', 'population'))\n",
        "        writer.writerows(lines)\n",
        "\n",
        "\n",
        "  df = pd.read_csv(file_name + \".csv\")\n",
        "  df[\"year\"] = start_year #add the column year to the dataframe\n",
        "  df.to_csv(file_name + \"t\" + \".csv\") #save as a new csv file with year column\n",
        "  new_df = pd.read_csv(file_name + \"t\" + \".csv\") #open the csv file with year\n",
        "  main_df = pd.concat([main_df,new_df]) #concat to main_df\n",
        "  if start_year == 2021:\n",
        "    main_df.to_csv(\"final.csv\") #export main_df to csv file when done\n",
        "  start_year += 1"
      ],
      "metadata": {
        "id": "Z-FEvFW1xLFt"
      },
      "execution_count": null,
      "outputs": []
    },
    {
      "cell_type": "code",
      "source": [
        "df = pd.read_csv(\"final.csv\").loc[:,[\"name\",\"gender\",\"population\",\"year\"]]\n",
        "print(df.shape)\n",
        "df = df.dropna() #drop na\n",
        "print(df.shape)\n",
        "print(df.isnull().sum())"
      ],
      "metadata": {
        "colab": {
          "base_uri": "https://localhost:8080/"
        },
        "id": "gb-KtP0F4bA9",
        "outputId": "5d26533d-abae-4421-d426-aa8af003ed5e"
      },
      "execution_count": null,
      "outputs": [
        {
          "output_type": "stream",
          "name": "stdout",
          "text": [
            "(2052789, 4)\n",
            "(2052754, 4)\n",
            "name          0\n",
            "gender        0\n",
            "population    0\n",
            "year          0\n",
            "dtype: int64\n"
          ]
        }
      ]
    },
    {
      "cell_type": "code",
      "source": [
        "df = df[(df[\"gender\"] == \"F\") | (df[\"gender\"] == \"M\")] \n",
        "print(df.shape)\n",
        "df = df[df[\"population\"] >= 0] \n",
        "print(df.shape)\n",
        "new_df = df.sort_values([\"population\"], ascending=False).drop_duplicates([\"name\"], keep='first') \n",
        "print(new_df.shape)"
      ],
      "metadata": {
        "colab": {
          "base_uri": "https://localhost:8080/"
        },
        "id": "BZ6OP5v_7yuc",
        "outputId": "32c36882-23b5-4b6a-d406-1a9a10c13f46"
      },
      "execution_count": null,
      "outputs": [
        {
          "output_type": "stream",
          "name": "stdout",
          "text": [
            "(2052752, 4)\n",
            "(2052749, 4)\n",
            "(2052749, 4)\n"
          ]
        }
      ]
    },
    {
      "cell_type": "code",
      "source": [
        "\n",
        "\n",
        "user_year = \"2000\" #@param {type:\"string\"}\n",
        "user_year = int(user_year)\n",
        "year_df = df[(df[\"year\"] == user_year)]\n",
        "n = 10\n",
        "list_10_common = df['name'].value_counts()[:n].index.tolist()\n",
        "frequency = df['name'].value_counts().tolist()\n",
        "frequency = frequency[:10]\n",
        "fig = plt.figure(figsize = (10, 5))\n",
        "plt.title(user_year)\n",
        "plt.xlabel(\"Name\")\n",
        "plt.ylabel(\"Frequency\")\n",
        "plt.bar(list_10_common, frequency, color ='maroon',\n",
        "        width = 0.3)\n",
        "\n",
        "plt.show()"
      ],
      "metadata": {
        "colab": {
          "base_uri": "https://localhost:8080/",
          "height": 350
        },
        "id": "kDjYWA_8Josd",
        "outputId": "2795cecf-4258-4f95-c9a4-93007c0e1fd6"
      },
      "execution_count": null,
      "outputs": [
        {
          "output_type": "display_data",
          "data": {
            "text/plain": [
              "<Figure size 720x360 with 1 Axes>"
            ],
            "image/png": "[encoded data removed]"
          },
          "metadata": {
            "needs_background": "light"
          }
        }
      ]
    },
    {
      "cell_type": "code",
      "source": [
        "\n",
        "\n",
        "user_year = \"2000\" #@param {type:\"string\"}\n",
        "user_year = int(user_year)\n",
        "trend_df = df[(df [\"year\"] == user_year)].groupby(\"gender\").count()\n",
        "list_gender = []\n",
        "list_gender.append(trend_df[\"population\"][0])\n",
        "list_gender.append(trend_df[\"population\"][1])\n",
        "fig = plt.figure(figsize = (10, 4))\n",
        "plt.title(user_year)\n",
        "plt.xlabel(\"Gender\")\n",
        "plt.ylabel(\"Population\")\n",
        "plt.bar([\"female\", \"male\"], list_gender,\n",
        "        width = 0.4)\n",
        "\n",
        "plt.show()"
      ],
      "metadata": {
        "colab": {
          "base_uri": "https://localhost:8080/",
          "height": 295
        },
        "id": "pyaj5l_nQgOg",
        "outputId": "0750fe06-984e-435b-be30-96055c72db36"
      },
      "execution_count": null,
      "outputs": [
        {
          "output_type": "display_data",
          "data": {
            "text/plain": [
              "<Figure size 720x288 with 1 Axes>"
            ],
            "image/png": "[encoded data removed]"
          },
          "metadata": {
            "needs_background": "light"
          }
        }
      ]
    },
    {
      "cell_type": "code",
      "source": [
        "m = []\n",
        "f = []\n",
        "x = []\n",
        "start = 1880\n",
        "while start < 2022:\n",
        "  trend_df = df[(df [\"year\"] == start)].groupby(\"gender\").count()\n",
        "  f.append(trend_df[\"population\"][0])\n",
        "  m.append(trend_df[\"population\"][1])\n",
        "  x.append(start)\n",
        "  start += 1\n",
        "\n",
        "plt.plot(x, f, label = \"female\")\n",
        "plt.plot(x, m, label = \"male\")\n",
        "  \n",
        "plt.xlabel('year')\n",
        "plt.ylabel('population')\n",
        "plt.title('change of female and male population')\n",
        "  \n",
        "plt.legend()\n"
      ],
      "metadata": {
        "colab": {
          "base_uri": "https://localhost:8080/",
          "height": 313
        },
        "id": "wGRfyedVNPd_",
        "outputId": "94d2a8a3-5713-4b14-946b-f19f60b32941"
      },
      "execution_count": null,
      "outputs": [
        {
          "output_type": "execute_result",
          "data": {
            "text/plain": [
              "<matplotlib.legend.Legend at 0x7f7c4d0470a0>"
            ]
          },
          "metadata": {},
          "execution_count": 77
        },
        {
          "output_type": "display_data",
          "data": {
            "text/plain": [
              "<Figure size 432x288 with 1 Axes>"
            ],
            "image/png": "[encoded data removed]"
          },
          "metadata": {
            "needs_background": "light"
          }
        }
      ]
    },
    {
      "cell_type": "code",
      "source": [],
      "metadata": {
        "id": "i7K5ixuqMzLj"
      },
      "execution_count": null,
      "outputs": []
    }
  ]
}